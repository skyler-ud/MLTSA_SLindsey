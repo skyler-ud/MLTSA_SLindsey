{
  "nbformat": 4,
  "nbformat_minor": 0,
  "metadata": {
    "colab": {
      "provenance": [],
      "gpuType": "T4",
      "include_colab_link": true
    },
    "kernelspec": {
      "name": "python3",
      "display_name": "Python 3"
    },
    "language_info": {
      "name": "python"
    },
    "accelerator": "GPU"
  },
  "cells": [
    {
      "cell_type": "markdown",
      "metadata": {
        "id": "view-in-github",
        "colab_type": "text"
      },
      "source": [
        "<a href=\"https://colab.research.google.com/github/skyler-ud/MLTSA_SLindsey/blob/main/labs/Copy_of_TimeSeriesClassificationWithKerasTransformers_ClassCopy.ipynb\" target=\"_parent\"><img src=\"https://colab.research.google.com/assets/colab-badge.svg\" alt=\"Open In Colab\"/></a>"
      ]
    },
    {
      "cell_type": "code",
      "execution_count": null,
      "metadata": {
        "id": "uPDAz7x91iGi"
      },
      "outputs": [],
      "source": [
        "import numpy as np\n",
        "import keras\n",
        "from keras import layers"
      ]
    },
    {
      "cell_type": "code",
      "source": [
        "def readucr(filename):\n",
        "    data = np.loadtxt(filename, delimiter=\"\\t\")\n",
        "    y = data[:, 0]\n",
        "    x = data[:, 1:]\n",
        "    return x, y.astype(int)\n",
        "\n",
        "\n",
        "root_url = \"https://raw.githubusercontent.com/hfawaz/cd-diagram/master/FordA/\"\n",
        "\n",
        "x_train, y_train = readucr(root_url + \"FordA_TRAIN.tsv\")\n",
        "x_test, y_test = readucr(root_url + \"FordA_TEST.tsv\")\n",
        "\n",
        "x_train = x_train.reshape((x_train.shape[0], x_train.shape[1], 1))\n",
        "x_test = x_test.reshape((x_test.shape[0], x_test.shape[1], 1))\n",
        "\n",
        "n_classes = len(np.unique(y_train))\n",
        "\n",
        "idx = np.random.permutation(len(x_train))\n",
        "x_train = x_train[idx]\n",
        "y_train = y_train[idx]\n",
        "\n",
        "y_train[y_train == -1] = 0\n",
        "y_test[y_test == -1] = 0\n",
        "\n",
        "input_shape = x_train.shape[1:]"
      ],
      "metadata": {
        "id": "U7IxZ1TP17Gt"
      },
      "execution_count": null,
      "outputs": []
    },
    {
      "cell_type": "code",
      "source": [
        "x_train.shape"
      ],
      "metadata": {
        "id": "HFOHgxT6Lli8",
        "outputId": "703be9e2-84e5-4a87-96e6-b3d69aa180ba",
        "colab": {
          "base_uri": "https://localhost:8080/"
        }
      },
      "execution_count": null,
      "outputs": [
        {
          "output_type": "execute_result",
          "data": {
            "text/plain": [
              "(3601, 500, 1)"
            ]
          },
          "metadata": {},
          "execution_count": 5
        }
      ]
    },
    {
      "cell_type": "code",
      "source": [
        "def train_and_evaluate(model, Xtrn, Xtst, Ytrn, Ytst):\n",
        "    cb_early = keras.callbacks.EarlyStopping(\n",
        "        patience=10, restore_best_weights=True\n",
        "    )\n",
        "    model.fit(\n",
        "        Xtrn,\n",
        "        Ytrn,\n",
        "        epochs=100,\n",
        "        batch_size=32,\n",
        "        validation_split=0.2,\n",
        "        callbacks=[cb_early],\n",
        "    )\n",
        "    loss_tst, acc_tst = model.evaluate(Xtst, Ytst,verbose=1)\n",
        "    print(f\"Loss calculated on the testing set: {loss_tst:.4f}\")\n",
        "    print(f\"Accuracy calculated on the testing set: {acc_tst:.4f}\")\n",
        "    return None"
      ],
      "metadata": {
        "id": "gmfg7BpP2PRV"
      },
      "execution_count": null,
      "outputs": []
    },
    {
      "cell_type": "code",
      "source": [
        "def transformer_block(\n",
        "    x,\n",
        "    input_shape,\n",
        "    heads=4,\n",
        "    key_dim=256,\n",
        "    encoder_proj_dim=4,\n",
        "    dropout_attention=0.25,\n",
        "    dropout_projection=0.25,\n",
        "):\n",
        "    x0 = layers.MultiHeadAttention(num_heads=heads,key_dim=key_dim)(x,x)\n",
        "    x0 = layers.Dropout(dropout_attention)(x0)\n",
        "    x0 = layers.Add()([x,x0])\n",
        "    x0 = layers.LayerNormalization()(x0)\n",
        "\n",
        "    x1 = layers.Conv1D(filters=encoder_proj_dim,kernel_size=1,activation='relu')(x0)\n",
        "    x1 = layers.Conv1D(filters=input_shape[1],kernel_size=1,activation='relu')(x1)\n",
        "    x1 = layers.Dropout(dropout_projection)(x1)\n",
        "    x1 = layers.Add()([x0,x1])\n",
        "    x1 = layers.LayerNormalization()(x1)\n",
        "\n",
        "    return x1\n",
        "\n",
        "\n",
        "def build_transformer_model(\n",
        "    input_shape,\n",
        "    encoder_blocks=0,\n",
        "    feed_forward_units=[128]\n",
        "):\n",
        "    inputs = keras.Input(shape=input_shape)\n",
        "    x = inputs\n",
        "\n",
        "    for _ in range(encoder_blocks):\n",
        "        x = transformer_block(x,input_shape)\n",
        "\n",
        "    x = layers.GlobalMaxPooling1D(data_format=\"channels_first\")(x)\n",
        "    for n in feed_forward_units:\n",
        "        x = layers.Dense(n, activation=\"relu\")(x)\n",
        "        x = layers.Dropout(.4)(x)\n",
        "\n",
        "    outputs = layers.Dense(2,activation='softmax')(x)\n",
        "    model = keras.Model(inputs,outputs)\n",
        "\n",
        "    return model\n",
        "\n",
        "\n",
        "transformer_model = build_transformer_model(input_shape)\n",
        "transformer_model.compile(\n",
        "    loss=\"sparse_categorical_crossentropy\",\n",
        "    optimizer=keras.optimizers.Adam(learning_rate=1e-4),\n",
        "    metrics=[\"sparse_categorical_accuracy\"],\n",
        ")\n",
        "transformer_model.summary()\n",
        "\n",
        "train_and_evaluate(transformer_model, x_train, x_test, y_train, y_test)"
      ],
      "metadata": {
        "id": "ETBzP6E12S3F",
        "outputId": "43ad1352-96fe-48e9-e137-e20673fdb95c",
        "colab": {
          "base_uri": "https://localhost:8080/",
          "height": 1000
        }
      },
      "execution_count": null,
      "outputs": [
        {
          "output_type": "display_data",
          "data": {
            "text/plain": [
              "\u001b[1mModel: \"functional_2\"\u001b[0m\n"
            ],
            "text/html": [
              "<pre style=\"white-space:pre;overflow-x:auto;line-height:normal;font-family:Menlo,'DejaVu Sans Mono',consolas,'Courier New',monospace\"><span style=\"font-weight: bold\">Model: \"functional_2\"</span>\n",
              "</pre>\n"
            ]
          },
          "metadata": {}
        },
        {
          "output_type": "display_data",
          "data": {
            "text/plain": [
              "┏━━━━━━━━━━━━━━━━━━━━━━━━━━━━━━━━━┳━━━━━━━━━━━━━━━━━━━━━━━━┳━━━━━━━━━━━━━━━┓\n",
              "┃\u001b[1m \u001b[0m\u001b[1mLayer (type)                   \u001b[0m\u001b[1m \u001b[0m┃\u001b[1m \u001b[0m\u001b[1mOutput Shape          \u001b[0m\u001b[1m \u001b[0m┃\u001b[1m \u001b[0m\u001b[1m      Param #\u001b[0m\u001b[1m \u001b[0m┃\n",
              "┡━━━━━━━━━━━━━━━━━━━━━━━━━━━━━━━━━╇━━━━━━━━━━━━━━━━━━━━━━━━╇━━━━━━━━━━━━━━━┩\n",
              "│ input_layer_8 (\u001b[38;5;33mInputLayer\u001b[0m)      │ (\u001b[38;5;45mNone\u001b[0m, \u001b[38;5;34m500\u001b[0m, \u001b[38;5;34m1\u001b[0m)         │             \u001b[38;5;34m0\u001b[0m │\n",
              "├─────────────────────────────────┼────────────────────────┼───────────────┤\n",
              "│ global_max_pooling1d_2          │ (\u001b[38;5;45mNone\u001b[0m, \u001b[38;5;34m500\u001b[0m)            │             \u001b[38;5;34m0\u001b[0m │\n",
              "│ (\u001b[38;5;33mGlobalMaxPooling1D\u001b[0m)            │                        │               │\n",
              "├─────────────────────────────────┼────────────────────────┼───────────────┤\n",
              "│ dense_4 (\u001b[38;5;33mDense\u001b[0m)                 │ (\u001b[38;5;45mNone\u001b[0m, \u001b[38;5;34m128\u001b[0m)            │        \u001b[38;5;34m64,128\u001b[0m │\n",
              "├─────────────────────────────────┼────────────────────────┼───────────────┤\n",
              "│ dropout_32 (\u001b[38;5;33mDropout\u001b[0m)            │ (\u001b[38;5;45mNone\u001b[0m, \u001b[38;5;34m128\u001b[0m)            │             \u001b[38;5;34m0\u001b[0m │\n",
              "├─────────────────────────────────┼────────────────────────┼───────────────┤\n",
              "│ dense_5 (\u001b[38;5;33mDense\u001b[0m)                 │ (\u001b[38;5;45mNone\u001b[0m, \u001b[38;5;34m2\u001b[0m)              │           \u001b[38;5;34m258\u001b[0m │\n",
              "└─────────────────────────────────┴────────────────────────┴───────────────┘\n"
            ],
            "text/html": [
              "<pre style=\"white-space:pre;overflow-x:auto;line-height:normal;font-family:Menlo,'DejaVu Sans Mono',consolas,'Courier New',monospace\">┏━━━━━━━━━━━━━━━━━━━━━━━━━━━━━━━━━┳━━━━━━━━━━━━━━━━━━━━━━━━┳━━━━━━━━━━━━━━━┓\n",
              "┃<span style=\"font-weight: bold\"> Layer (type)                    </span>┃<span style=\"font-weight: bold\"> Output Shape           </span>┃<span style=\"font-weight: bold\">       Param # </span>┃\n",
              "┡━━━━━━━━━━━━━━━━━━━━━━━━━━━━━━━━━╇━━━━━━━━━━━━━━━━━━━━━━━━╇━━━━━━━━━━━━━━━┩\n",
              "│ input_layer_8 (<span style=\"color: #0087ff; text-decoration-color: #0087ff\">InputLayer</span>)      │ (<span style=\"color: #00d7ff; text-decoration-color: #00d7ff\">None</span>, <span style=\"color: #00af00; text-decoration-color: #00af00\">500</span>, <span style=\"color: #00af00; text-decoration-color: #00af00\">1</span>)         │             <span style=\"color: #00af00; text-decoration-color: #00af00\">0</span> │\n",
              "├─────────────────────────────────┼────────────────────────┼───────────────┤\n",
              "│ global_max_pooling1d_2          │ (<span style=\"color: #00d7ff; text-decoration-color: #00d7ff\">None</span>, <span style=\"color: #00af00; text-decoration-color: #00af00\">500</span>)            │             <span style=\"color: #00af00; text-decoration-color: #00af00\">0</span> │\n",
              "│ (<span style=\"color: #0087ff; text-decoration-color: #0087ff\">GlobalMaxPooling1D</span>)            │                        │               │\n",
              "├─────────────────────────────────┼────────────────────────┼───────────────┤\n",
              "│ dense_4 (<span style=\"color: #0087ff; text-decoration-color: #0087ff\">Dense</span>)                 │ (<span style=\"color: #00d7ff; text-decoration-color: #00d7ff\">None</span>, <span style=\"color: #00af00; text-decoration-color: #00af00\">128</span>)            │        <span style=\"color: #00af00; text-decoration-color: #00af00\">64,128</span> │\n",
              "├─────────────────────────────────┼────────────────────────┼───────────────┤\n",
              "│ dropout_32 (<span style=\"color: #0087ff; text-decoration-color: #0087ff\">Dropout</span>)            │ (<span style=\"color: #00d7ff; text-decoration-color: #00d7ff\">None</span>, <span style=\"color: #00af00; text-decoration-color: #00af00\">128</span>)            │             <span style=\"color: #00af00; text-decoration-color: #00af00\">0</span> │\n",
              "├─────────────────────────────────┼────────────────────────┼───────────────┤\n",
              "│ dense_5 (<span style=\"color: #0087ff; text-decoration-color: #0087ff\">Dense</span>)                 │ (<span style=\"color: #00d7ff; text-decoration-color: #00d7ff\">None</span>, <span style=\"color: #00af00; text-decoration-color: #00af00\">2</span>)              │           <span style=\"color: #00af00; text-decoration-color: #00af00\">258</span> │\n",
              "└─────────────────────────────────┴────────────────────────┴───────────────┘\n",
              "</pre>\n"
            ]
          },
          "metadata": {}
        },
        {
          "output_type": "display_data",
          "data": {
            "text/plain": [
              "\u001b[1m Total params: \u001b[0m\u001b[38;5;34m64,386\u001b[0m (251.51 KB)\n"
            ],
            "text/html": [
              "<pre style=\"white-space:pre;overflow-x:auto;line-height:normal;font-family:Menlo,'DejaVu Sans Mono',consolas,'Courier New',monospace\"><span style=\"font-weight: bold\"> Total params: </span><span style=\"color: #00af00; text-decoration-color: #00af00\">64,386</span> (251.51 KB)\n",
              "</pre>\n"
            ]
          },
          "metadata": {}
        },
        {
          "output_type": "display_data",
          "data": {
            "text/plain": [
              "\u001b[1m Trainable params: \u001b[0m\u001b[38;5;34m64,386\u001b[0m (251.51 KB)\n"
            ],
            "text/html": [
              "<pre style=\"white-space:pre;overflow-x:auto;line-height:normal;font-family:Menlo,'DejaVu Sans Mono',consolas,'Courier New',monospace\"><span style=\"font-weight: bold\"> Trainable params: </span><span style=\"color: #00af00; text-decoration-color: #00af00\">64,386</span> (251.51 KB)\n",
              "</pre>\n"
            ]
          },
          "metadata": {}
        },
        {
          "output_type": "display_data",
          "data": {
            "text/plain": [
              "\u001b[1m Non-trainable params: \u001b[0m\u001b[38;5;34m0\u001b[0m (0.00 B)\n"
            ],
            "text/html": [
              "<pre style=\"white-space:pre;overflow-x:auto;line-height:normal;font-family:Menlo,'DejaVu Sans Mono',consolas,'Courier New',monospace\"><span style=\"font-weight: bold\"> Non-trainable params: </span><span style=\"color: #00af00; text-decoration-color: #00af00\">0</span> (0.00 B)\n",
              "</pre>\n"
            ]
          },
          "metadata": {}
        },
        {
          "output_type": "stream",
          "name": "stdout",
          "text": [
            "Epoch 1/100\n",
            "\u001b[1m90/90\u001b[0m \u001b[32m━━━━━━━━━━━━━━━━━━━━\u001b[0m\u001b[37m\u001b[0m \u001b[1m3s\u001b[0m 11ms/step - loss: 1.1753 - sparse_categorical_accuracy: 0.5149 - val_loss: 0.7508 - val_sparse_categorical_accuracy: 0.5742\n",
            "Epoch 2/100\n",
            "\u001b[1m90/90\u001b[0m \u001b[32m━━━━━━━━━━━━━━━━━━━━\u001b[0m\u001b[37m\u001b[0m \u001b[1m0s\u001b[0m 3ms/step - loss: 0.8815 - sparse_categorical_accuracy: 0.5692 - val_loss: 0.6556 - val_sparse_categorical_accuracy: 0.6380\n",
            "Epoch 3/100\n",
            "\u001b[1m90/90\u001b[0m \u001b[32m━━━━━━━━━━━━━━━━━━━━\u001b[0m\u001b[37m\u001b[0m \u001b[1m0s\u001b[0m 3ms/step - loss: 0.7885 - sparse_categorical_accuracy: 0.5896 - val_loss: 0.6232 - val_sparse_categorical_accuracy: 0.6602\n",
            "Epoch 4/100\n",
            "\u001b[1m90/90\u001b[0m \u001b[32m━━━━━━━━━━━━━━━━━━━━\u001b[0m\u001b[37m\u001b[0m \u001b[1m0s\u001b[0m 4ms/step - loss: 0.6999 - sparse_categorical_accuracy: 0.6262 - val_loss: 0.5997 - val_sparse_categorical_accuracy: 0.6907\n",
            "Epoch 5/100\n",
            "\u001b[1m90/90\u001b[0m \u001b[32m━━━━━━━━━━━━━━━━━━━━\u001b[0m\u001b[37m\u001b[0m \u001b[1m0s\u001b[0m 3ms/step - loss: 0.6566 - sparse_categorical_accuracy: 0.6532 - val_loss: 0.5801 - val_sparse_categorical_accuracy: 0.6963\n",
            "Epoch 6/100\n",
            "\u001b[1m90/90\u001b[0m \u001b[32m━━━━━━━━━━━━━━━━━━━━\u001b[0m\u001b[37m\u001b[0m \u001b[1m0s\u001b[0m 3ms/step - loss: 0.6575 - sparse_categorical_accuracy: 0.6705 - val_loss: 0.5717 - val_sparse_categorical_accuracy: 0.7143\n",
            "Epoch 7/100\n",
            "\u001b[1m90/90\u001b[0m \u001b[32m━━━━━━━━━━━━━━━━━━━━\u001b[0m\u001b[37m\u001b[0m \u001b[1m0s\u001b[0m 3ms/step - loss: 0.6061 - sparse_categorical_accuracy: 0.6959 - val_loss: 0.5608 - val_sparse_categorical_accuracy: 0.7060\n",
            "Epoch 8/100\n",
            "\u001b[1m90/90\u001b[0m \u001b[32m━━━━━━━━━━━━━━━━━━━━\u001b[0m\u001b[37m\u001b[0m \u001b[1m0s\u001b[0m 3ms/step - loss: 0.5679 - sparse_categorical_accuracy: 0.7295 - val_loss: 0.5525 - val_sparse_categorical_accuracy: 0.7198\n",
            "Epoch 9/100\n",
            "\u001b[1m90/90\u001b[0m \u001b[32m━━━━━━━━━━━━━━━━━━━━\u001b[0m\u001b[37m\u001b[0m \u001b[1m1s\u001b[0m 3ms/step - loss: 0.5649 - sparse_categorical_accuracy: 0.7193 - val_loss: 0.5387 - val_sparse_categorical_accuracy: 0.7295\n",
            "Epoch 10/100\n",
            "\u001b[1m90/90\u001b[0m \u001b[32m━━━━━━━━━━━━━━━━━━━━\u001b[0m\u001b[37m\u001b[0m \u001b[1m0s\u001b[0m 4ms/step - loss: 0.5243 - sparse_categorical_accuracy: 0.7414 - val_loss: 0.5319 - val_sparse_categorical_accuracy: 0.7503\n",
            "Epoch 11/100\n",
            "\u001b[1m90/90\u001b[0m \u001b[32m━━━━━━━━━━━━━━━━━━━━\u001b[0m\u001b[37m\u001b[0m \u001b[1m0s\u001b[0m 3ms/step - loss: 0.5143 - sparse_categorical_accuracy: 0.7443 - val_loss: 0.5232 - val_sparse_categorical_accuracy: 0.7448\n",
            "Epoch 12/100\n",
            "\u001b[1m90/90\u001b[0m \u001b[32m━━━━━━━━━━━━━━━━━━━━\u001b[0m\u001b[37m\u001b[0m \u001b[1m0s\u001b[0m 3ms/step - loss: 0.4717 - sparse_categorical_accuracy: 0.7851 - val_loss: 0.5181 - val_sparse_categorical_accuracy: 0.7573\n",
            "Epoch 13/100\n",
            "\u001b[1m90/90\u001b[0m \u001b[32m━━━━━━━━━━━━━━━━━━━━\u001b[0m\u001b[37m\u001b[0m \u001b[1m0s\u001b[0m 4ms/step - loss: 0.4784 - sparse_categorical_accuracy: 0.7697 - val_loss: 0.5089 - val_sparse_categorical_accuracy: 0.7601\n",
            "Epoch 14/100\n",
            "\u001b[1m90/90\u001b[0m \u001b[32m━━━━━━━━━━━━━━━━━━━━\u001b[0m\u001b[37m\u001b[0m \u001b[1m1s\u001b[0m 4ms/step - loss: 0.4684 - sparse_categorical_accuracy: 0.7632 - val_loss: 0.4994 - val_sparse_categorical_accuracy: 0.7712\n",
            "Epoch 15/100\n",
            "\u001b[1m90/90\u001b[0m \u001b[32m━━━━━━━━━━━━━━━━━━━━\u001b[0m\u001b[37m\u001b[0m \u001b[1m0s\u001b[0m 3ms/step - loss: 0.4628 - sparse_categorical_accuracy: 0.7815 - val_loss: 0.4929 - val_sparse_categorical_accuracy: 0.7836\n",
            "Epoch 16/100\n",
            "\u001b[1m90/90\u001b[0m \u001b[32m━━━━━━━━━━━━━━━━━━━━\u001b[0m\u001b[37m\u001b[0m \u001b[1m0s\u001b[0m 3ms/step - loss: 0.4350 - sparse_categorical_accuracy: 0.7929 - val_loss: 0.4894 - val_sparse_categorical_accuracy: 0.7753\n",
            "Epoch 17/100\n",
            "\u001b[1m90/90\u001b[0m \u001b[32m━━━━━━━━━━━━━━━━━━━━\u001b[0m\u001b[37m\u001b[0m \u001b[1m1s\u001b[0m 3ms/step - loss: 0.4259 - sparse_categorical_accuracy: 0.8058 - val_loss: 0.4844 - val_sparse_categorical_accuracy: 0.7892\n",
            "Epoch 18/100\n",
            "\u001b[1m90/90\u001b[0m \u001b[32m━━━━━━━━━━━━━━━━━━━━\u001b[0m\u001b[37m\u001b[0m \u001b[1m1s\u001b[0m 3ms/step - loss: 0.4424 - sparse_categorical_accuracy: 0.7929 - val_loss: 0.4791 - val_sparse_categorical_accuracy: 0.7809\n",
            "Epoch 19/100\n",
            "\u001b[1m90/90\u001b[0m \u001b[32m━━━━━━━━━━━━━━━━━━━━\u001b[0m\u001b[37m\u001b[0m \u001b[1m0s\u001b[0m 4ms/step - loss: 0.4355 - sparse_categorical_accuracy: 0.8068 - val_loss: 0.4687 - val_sparse_categorical_accuracy: 0.8003\n",
            "Epoch 20/100\n",
            "\u001b[1m90/90\u001b[0m \u001b[32m━━━━━━━━━━━━━━━━━━━━\u001b[0m\u001b[37m\u001b[0m \u001b[1m1s\u001b[0m 5ms/step - loss: 0.4146 - sparse_categorical_accuracy: 0.8134 - val_loss: 0.4653 - val_sparse_categorical_accuracy: 0.7975\n",
            "Epoch 21/100\n",
            "\u001b[1m90/90\u001b[0m \u001b[32m━━━━━━━━━━━━━━━━━━━━\u001b[0m\u001b[37m\u001b[0m \u001b[1m1s\u001b[0m 5ms/step - loss: 0.4155 - sparse_categorical_accuracy: 0.8121 - val_loss: 0.4602 - val_sparse_categorical_accuracy: 0.8086\n",
            "Epoch 22/100\n",
            "\u001b[1m90/90\u001b[0m \u001b[32m━━━━━━━━━━━━━━━━━━━━\u001b[0m\u001b[37m\u001b[0m \u001b[1m0s\u001b[0m 4ms/step - loss: 0.3985 - sparse_categorical_accuracy: 0.8199 - val_loss: 0.4528 - val_sparse_categorical_accuracy: 0.8003\n",
            "Epoch 23/100\n",
            "\u001b[1m90/90\u001b[0m \u001b[32m━━━━━━━━━━━━━━━━━━━━\u001b[0m\u001b[37m\u001b[0m \u001b[1m1s\u001b[0m 3ms/step - loss: 0.4065 - sparse_categorical_accuracy: 0.8178 - val_loss: 0.4471 - val_sparse_categorical_accuracy: 0.8086\n",
            "Epoch 24/100\n",
            "\u001b[1m90/90\u001b[0m \u001b[32m━━━━━━━━━━━━━━━━━━━━\u001b[0m\u001b[37m\u001b[0m \u001b[1m0s\u001b[0m 3ms/step - loss: 0.3955 - sparse_categorical_accuracy: 0.8226 - val_loss: 0.4417 - val_sparse_categorical_accuracy: 0.8044\n",
            "Epoch 25/100\n",
            "\u001b[1m90/90\u001b[0m \u001b[32m━━━━━━━━━━━━━━━━━━━━\u001b[0m\u001b[37m\u001b[0m \u001b[1m0s\u001b[0m 4ms/step - loss: 0.3705 - sparse_categorical_accuracy: 0.8405 - val_loss: 0.4373 - val_sparse_categorical_accuracy: 0.8128\n",
            "Epoch 26/100\n",
            "\u001b[1m90/90\u001b[0m \u001b[32m━━━━━━━━━━━━━━━━━━━━\u001b[0m\u001b[37m\u001b[0m \u001b[1m1s\u001b[0m 3ms/step - loss: 0.3760 - sparse_categorical_accuracy: 0.8382 - val_loss: 0.4360 - val_sparse_categorical_accuracy: 0.8072\n",
            "Epoch 27/100\n",
            "\u001b[1m90/90\u001b[0m \u001b[32m━━━━━━━━━━━━━━━━━━━━\u001b[0m\u001b[37m\u001b[0m \u001b[1m0s\u001b[0m 3ms/step - loss: 0.3588 - sparse_categorical_accuracy: 0.8441 - val_loss: 0.4330 - val_sparse_categorical_accuracy: 0.8183\n",
            "Epoch 28/100\n",
            "\u001b[1m90/90\u001b[0m \u001b[32m━━━━━━━━━━━━━━━━━━━━\u001b[0m\u001b[37m\u001b[0m \u001b[1m0s\u001b[0m 3ms/step - loss: 0.3603 - sparse_categorical_accuracy: 0.8432 - val_loss: 0.4273 - val_sparse_categorical_accuracy: 0.8211\n",
            "Epoch 29/100\n",
            "\u001b[1m90/90\u001b[0m \u001b[32m━━━━━━━━━━━━━━━━━━━━\u001b[0m\u001b[37m\u001b[0m \u001b[1m1s\u001b[0m 3ms/step - loss: 0.3377 - sparse_categorical_accuracy: 0.8577 - val_loss: 0.4185 - val_sparse_categorical_accuracy: 0.8169\n",
            "Epoch 30/100\n",
            "\u001b[1m90/90\u001b[0m \u001b[32m━━━━━━━━━━━━━━━━━━━━\u001b[0m\u001b[37m\u001b[0m \u001b[1m0s\u001b[0m 3ms/step - loss: 0.3349 - sparse_categorical_accuracy: 0.8558 - val_loss: 0.4198 - val_sparse_categorical_accuracy: 0.8169\n",
            "Epoch 31/100\n",
            "\u001b[1m90/90\u001b[0m \u001b[32m━━━━━━━━━━━━━━━━━━━━\u001b[0m\u001b[37m\u001b[0m \u001b[1m1s\u001b[0m 3ms/step - loss: 0.3480 - sparse_categorical_accuracy: 0.8544 - val_loss: 0.4161 - val_sparse_categorical_accuracy: 0.8239\n",
            "Epoch 32/100\n",
            "\u001b[1m90/90\u001b[0m \u001b[32m━━━━━━━━━━━━━━━━━━━━\u001b[0m\u001b[37m\u001b[0m \u001b[1m0s\u001b[0m 4ms/step - loss: 0.3510 - sparse_categorical_accuracy: 0.8490 - val_loss: 0.4159 - val_sparse_categorical_accuracy: 0.8225\n",
            "Epoch 33/100\n",
            "\u001b[1m90/90\u001b[0m \u001b[32m━━━━━━━━━━━━━━━━━━━━\u001b[0m\u001b[37m\u001b[0m \u001b[1m1s\u001b[0m 3ms/step - loss: 0.3348 - sparse_categorical_accuracy: 0.8560 - val_loss: 0.4087 - val_sparse_categorical_accuracy: 0.8294\n",
            "Epoch 34/100\n",
            "\u001b[1m90/90\u001b[0m \u001b[32m━━━━━━━━━━━━━━━━━━━━\u001b[0m\u001b[37m\u001b[0m \u001b[1m0s\u001b[0m 3ms/step - loss: 0.3246 - sparse_categorical_accuracy: 0.8705 - val_loss: 0.4114 - val_sparse_categorical_accuracy: 0.8169\n",
            "Epoch 35/100\n",
            "\u001b[1m90/90\u001b[0m \u001b[32m━━━━━━━━━━━━━━━━━━━━\u001b[0m\u001b[37m\u001b[0m \u001b[1m0s\u001b[0m 3ms/step - loss: 0.3270 - sparse_categorical_accuracy: 0.8575 - val_loss: 0.4003 - val_sparse_categorical_accuracy: 0.8322\n",
            "Epoch 36/100\n",
            "\u001b[1m90/90\u001b[0m \u001b[32m━━━━━━━━━━━━━━━━━━━━\u001b[0m\u001b[37m\u001b[0m \u001b[1m0s\u001b[0m 4ms/step - loss: 0.3206 - sparse_categorical_accuracy: 0.8725 - val_loss: 0.3970 - val_sparse_categorical_accuracy: 0.8294\n",
            "Epoch 37/100\n",
            "\u001b[1m90/90\u001b[0m \u001b[32m━━━━━━━━━━━━━━━━━━━━\u001b[0m\u001b[37m\u001b[0m \u001b[1m1s\u001b[0m 3ms/step - loss: 0.3078 - sparse_categorical_accuracy: 0.8787 - val_loss: 0.3983 - val_sparse_categorical_accuracy: 0.8266\n",
            "Epoch 38/100\n",
            "\u001b[1m90/90\u001b[0m \u001b[32m━━━━━━━━━━━━━━━━━━━━\u001b[0m\u001b[37m\u001b[0m \u001b[1m0s\u001b[0m 3ms/step - loss: 0.2949 - sparse_categorical_accuracy: 0.8847 - val_loss: 0.3927 - val_sparse_categorical_accuracy: 0.8239\n",
            "Epoch 39/100\n",
            "\u001b[1m90/90\u001b[0m \u001b[32m━━━━━━━━━━━━━━━━━━━━\u001b[0m\u001b[37m\u001b[0m \u001b[1m0s\u001b[0m 3ms/step - loss: 0.3075 - sparse_categorical_accuracy: 0.8782 - val_loss: 0.3890 - val_sparse_categorical_accuracy: 0.8350\n",
            "Epoch 40/100\n",
            "\u001b[1m90/90\u001b[0m \u001b[32m━━━━━━━━━━━━━━━━━━━━\u001b[0m\u001b[37m\u001b[0m \u001b[1m0s\u001b[0m 3ms/step - loss: 0.2923 - sparse_categorical_accuracy: 0.8839 - val_loss: 0.3880 - val_sparse_categorical_accuracy: 0.8239\n",
            "Epoch 41/100\n",
            "\u001b[1m90/90\u001b[0m \u001b[32m━━━━━━━━━━━━━━━━━━━━\u001b[0m\u001b[37m\u001b[0m \u001b[1m0s\u001b[0m 3ms/step - loss: 0.2895 - sparse_categorical_accuracy: 0.8878 - val_loss: 0.3875 - val_sparse_categorical_accuracy: 0.8280\n",
            "Epoch 42/100\n",
            "\u001b[1m90/90\u001b[0m \u001b[32m━━━━━━━━━━━━━━━━━━━━\u001b[0m\u001b[37m\u001b[0m \u001b[1m0s\u001b[0m 3ms/step - loss: 0.2919 - sparse_categorical_accuracy: 0.8810 - val_loss: 0.3883 - val_sparse_categorical_accuracy: 0.8308\n",
            "Epoch 43/100\n",
            "\u001b[1m90/90\u001b[0m \u001b[32m━━━━━━━━━━━━━━━━━━━━\u001b[0m\u001b[37m\u001b[0m \u001b[1m0s\u001b[0m 3ms/step - loss: 0.2757 - sparse_categorical_accuracy: 0.8923 - val_loss: 0.3839 - val_sparse_categorical_accuracy: 0.8336\n",
            "Epoch 44/100\n",
            "\u001b[1m90/90\u001b[0m \u001b[32m━━━━━━━━━━━━━━━━━━━━\u001b[0m\u001b[37m\u001b[0m \u001b[1m0s\u001b[0m 4ms/step - loss: 0.2741 - sparse_categorical_accuracy: 0.8926 - val_loss: 0.3810 - val_sparse_categorical_accuracy: 0.8308\n",
            "Epoch 45/100\n",
            "\u001b[1m90/90\u001b[0m \u001b[32m━━━━━━━━━━━━━━━━━━━━\u001b[0m\u001b[37m\u001b[0m \u001b[1m1s\u001b[0m 3ms/step - loss: 0.2832 - sparse_categorical_accuracy: 0.8915 - val_loss: 0.3777 - val_sparse_categorical_accuracy: 0.8377\n",
            "Epoch 46/100\n",
            "\u001b[1m90/90\u001b[0m \u001b[32m━━━━━━━━━━━━━━━━━━━━\u001b[0m\u001b[37m\u001b[0m \u001b[1m1s\u001b[0m 4ms/step - loss: 0.2931 - sparse_categorical_accuracy: 0.8772 - val_loss: 0.3748 - val_sparse_categorical_accuracy: 0.8322\n",
            "Epoch 47/100\n",
            "\u001b[1m90/90\u001b[0m \u001b[32m━━━━━━━━━━━━━━━━━━━━\u001b[0m\u001b[37m\u001b[0m \u001b[1m1s\u001b[0m 5ms/step - loss: 0.2723 - sparse_categorical_accuracy: 0.8932 - val_loss: 0.3769 - val_sparse_categorical_accuracy: 0.8336\n",
            "Epoch 48/100\n",
            "\u001b[1m90/90\u001b[0m \u001b[32m━━━━━━━━━━━━━━━━━━━━\u001b[0m\u001b[37m\u001b[0m \u001b[1m1s\u001b[0m 5ms/step - loss: 0.2602 - sparse_categorical_accuracy: 0.9049 - val_loss: 0.3699 - val_sparse_categorical_accuracy: 0.8419\n",
            "Epoch 49/100\n",
            "\u001b[1m90/90\u001b[0m \u001b[32m━━━━━━━━━━━━━━━━━━━━\u001b[0m\u001b[37m\u001b[0m \u001b[1m0s\u001b[0m 4ms/step - loss: 0.2661 - sparse_categorical_accuracy: 0.8958 - val_loss: 0.3679 - val_sparse_categorical_accuracy: 0.8405\n",
            "Epoch 50/100\n",
            "\u001b[1m90/90\u001b[0m \u001b[32m━━━━━━━━━━━━━━━━━━━━\u001b[0m\u001b[37m\u001b[0m \u001b[1m0s\u001b[0m 3ms/step - loss: 0.2515 - sparse_categorical_accuracy: 0.9081 - val_loss: 0.3661 - val_sparse_categorical_accuracy: 0.8488\n",
            "Epoch 51/100\n",
            "\u001b[1m90/90\u001b[0m \u001b[32m━━━━━━━━━━━━━━━━━━━━\u001b[0m\u001b[37m\u001b[0m \u001b[1m0s\u001b[0m 3ms/step - loss: 0.2646 - sparse_categorical_accuracy: 0.8847 - val_loss: 0.3637 - val_sparse_categorical_accuracy: 0.8447\n",
            "Epoch 52/100\n",
            "\u001b[1m90/90\u001b[0m \u001b[32m━━━━━━━━━━━━━━━━━━━━\u001b[0m\u001b[37m\u001b[0m \u001b[1m0s\u001b[0m 4ms/step - loss: 0.2464 - sparse_categorical_accuracy: 0.9126 - val_loss: 0.3630 - val_sparse_categorical_accuracy: 0.8419\n",
            "Epoch 53/100\n",
            "\u001b[1m90/90\u001b[0m \u001b[32m━━━━━━━━━━━━━━━━━━━━\u001b[0m\u001b[37m\u001b[0m \u001b[1m0s\u001b[0m 3ms/step - loss: 0.2435 - sparse_categorical_accuracy: 0.9024 - val_loss: 0.3625 - val_sparse_categorical_accuracy: 0.8474\n",
            "Epoch 54/100\n",
            "\u001b[1m90/90\u001b[0m \u001b[32m━━━━━━━━━━━━━━━━━━━━\u001b[0m\u001b[37m\u001b[0m \u001b[1m0s\u001b[0m 3ms/step - loss: 0.2530 - sparse_categorical_accuracy: 0.8981 - val_loss: 0.3626 - val_sparse_categorical_accuracy: 0.8460\n",
            "Epoch 55/100\n",
            "\u001b[1m90/90\u001b[0m \u001b[32m━━━━━━━━━━━━━━━━━━━━\u001b[0m\u001b[37m\u001b[0m \u001b[1m1s\u001b[0m 3ms/step - loss: 0.2608 - sparse_categorical_accuracy: 0.8886 - val_loss: 0.3545 - val_sparse_categorical_accuracy: 0.8571\n",
            "Epoch 56/100\n",
            "\u001b[1m90/90\u001b[0m \u001b[32m━━━━━━━━━━━━━━━━━━━━\u001b[0m\u001b[37m\u001b[0m \u001b[1m0s\u001b[0m 3ms/step - loss: 0.2572 - sparse_categorical_accuracy: 0.9033 - val_loss: 0.3553 - val_sparse_categorical_accuracy: 0.8558\n",
            "Epoch 57/100\n",
            "\u001b[1m90/90\u001b[0m \u001b[32m━━━━━━━━━━━━━━━━━━━━\u001b[0m\u001b[37m\u001b[0m \u001b[1m0s\u001b[0m 3ms/step - loss: 0.2630 - sparse_categorical_accuracy: 0.8910 - val_loss: 0.3550 - val_sparse_categorical_accuracy: 0.8502\n",
            "Epoch 58/100\n",
            "\u001b[1m90/90\u001b[0m \u001b[32m━━━━━━━━━━━━━━━━━━━━\u001b[0m\u001b[37m\u001b[0m \u001b[1m0s\u001b[0m 3ms/step - loss: 0.2322 - sparse_categorical_accuracy: 0.9149 - val_loss: 0.3517 - val_sparse_categorical_accuracy: 0.8502\n",
            "Epoch 59/100\n",
            "\u001b[1m90/90\u001b[0m \u001b[32m━━━━━━━━━━━━━━━━━━━━\u001b[0m\u001b[37m\u001b[0m \u001b[1m0s\u001b[0m 3ms/step - loss: 0.2382 - sparse_categorical_accuracy: 0.9018 - val_loss: 0.3506 - val_sparse_categorical_accuracy: 0.8544\n",
            "Epoch 60/100\n",
            "\u001b[1m90/90\u001b[0m \u001b[32m━━━━━━━━━━━━━━━━━━━━\u001b[0m\u001b[37m\u001b[0m \u001b[1m0s\u001b[0m 3ms/step - loss: 0.2343 - sparse_categorical_accuracy: 0.9166 - val_loss: 0.3502 - val_sparse_categorical_accuracy: 0.8571\n",
            "Epoch 61/100\n",
            "\u001b[1m90/90\u001b[0m \u001b[32m━━━━━━━━━━━━━━━━━━━━\u001b[0m\u001b[37m\u001b[0m \u001b[1m0s\u001b[0m 3ms/step - loss: 0.2352 - sparse_categorical_accuracy: 0.9020 - val_loss: 0.3454 - val_sparse_categorical_accuracy: 0.8558\n",
            "Epoch 62/100\n",
            "\u001b[1m90/90\u001b[0m \u001b[32m━━━━━━━━━━━━━━━━━━━━\u001b[0m\u001b[37m\u001b[0m \u001b[1m0s\u001b[0m 3ms/step - loss: 0.2344 - sparse_categorical_accuracy: 0.9165 - val_loss: 0.3458 - val_sparse_categorical_accuracy: 0.8571\n",
            "Epoch 63/100\n",
            "\u001b[1m90/90\u001b[0m \u001b[32m━━━━━━━━━━━━━━━━━━━━\u001b[0m\u001b[37m\u001b[0m \u001b[1m1s\u001b[0m 4ms/step - loss: 0.2303 - sparse_categorical_accuracy: 0.9158 - val_loss: 0.3491 - val_sparse_categorical_accuracy: 0.8516\n",
            "Epoch 64/100\n",
            "\u001b[1m90/90\u001b[0m \u001b[32m━━━━━━━━━━━━━━━━━━━━\u001b[0m\u001b[37m\u001b[0m \u001b[1m1s\u001b[0m 3ms/step - loss: 0.2217 - sparse_categorical_accuracy: 0.9161 - val_loss: 0.3419 - val_sparse_categorical_accuracy: 0.8655\n",
            "Epoch 65/100\n",
            "\u001b[1m90/90\u001b[0m \u001b[32m━━━━━━━━━━━━━━━━━━━━\u001b[0m\u001b[37m\u001b[0m \u001b[1m1s\u001b[0m 3ms/step - loss: 0.2136 - sparse_categorical_accuracy: 0.9247 - val_loss: 0.3404 - val_sparse_categorical_accuracy: 0.8558\n",
            "Epoch 66/100\n",
            "\u001b[1m90/90\u001b[0m \u001b[32m━━━━━━━━━━━━━━━━━━━━\u001b[0m\u001b[37m\u001b[0m \u001b[1m1s\u001b[0m 3ms/step - loss: 0.2286 - sparse_categorical_accuracy: 0.9098 - val_loss: 0.3400 - val_sparse_categorical_accuracy: 0.8558\n",
            "Epoch 67/100\n",
            "\u001b[1m90/90\u001b[0m \u001b[32m━━━━━━━━━━━━━━━━━━━━\u001b[0m\u001b[37m\u001b[0m \u001b[1m0s\u001b[0m 3ms/step - loss: 0.2362 - sparse_categorical_accuracy: 0.9007 - val_loss: 0.3433 - val_sparse_categorical_accuracy: 0.8558\n",
            "Epoch 68/100\n",
            "\u001b[1m90/90\u001b[0m \u001b[32m━━━━━━━━━━━━━━━━━━━━\u001b[0m\u001b[37m\u001b[0m \u001b[1m0s\u001b[0m 3ms/step - loss: 0.2120 - sparse_categorical_accuracy: 0.9168 - val_loss: 0.3389 - val_sparse_categorical_accuracy: 0.8613\n",
            "Epoch 69/100\n",
            "\u001b[1m90/90\u001b[0m \u001b[32m━━━━━━━━━━━━━━━━━━━━\u001b[0m\u001b[37m\u001b[0m \u001b[1m0s\u001b[0m 3ms/step - loss: 0.2003 - sparse_categorical_accuracy: 0.9250 - val_loss: 0.3411 - val_sparse_categorical_accuracy: 0.8530\n",
            "Epoch 70/100\n",
            "\u001b[1m90/90\u001b[0m \u001b[32m━━━━━━━━━━━━━━━━━━━━\u001b[0m\u001b[37m\u001b[0m \u001b[1m1s\u001b[0m 3ms/step - loss: 0.2069 - sparse_categorical_accuracy: 0.9246 - val_loss: 0.3373 - val_sparse_categorical_accuracy: 0.8585\n",
            "Epoch 71/100\n",
            "\u001b[1m90/90\u001b[0m \u001b[32m━━━━━━━━━━━━━━━━━━━━\u001b[0m\u001b[37m\u001b[0m \u001b[1m0s\u001b[0m 3ms/step - loss: 0.2130 - sparse_categorical_accuracy: 0.9164 - val_loss: 0.3384 - val_sparse_categorical_accuracy: 0.8627\n",
            "Epoch 72/100\n",
            "\u001b[1m90/90\u001b[0m \u001b[32m━━━━━━━━━━━━━━━━━━━━\u001b[0m\u001b[37m\u001b[0m \u001b[1m0s\u001b[0m 3ms/step - loss: 0.2100 - sparse_categorical_accuracy: 0.9240 - val_loss: 0.3364 - val_sparse_categorical_accuracy: 0.8641\n",
            "Epoch 73/100\n",
            "\u001b[1m90/90\u001b[0m \u001b[32m━━━━━━━━━━━━━━━━━━━━\u001b[0m\u001b[37m\u001b[0m \u001b[1m1s\u001b[0m 3ms/step - loss: 0.2062 - sparse_categorical_accuracy: 0.9202 - val_loss: 0.3325 - val_sparse_categorical_accuracy: 0.8571\n",
            "Epoch 74/100\n",
            "\u001b[1m90/90\u001b[0m \u001b[32m━━━━━━━━━━━━━━━━━━━━\u001b[0m\u001b[37m\u001b[0m \u001b[1m1s\u001b[0m 4ms/step - loss: 0.2150 - sparse_categorical_accuracy: 0.9184 - val_loss: 0.3340 - val_sparse_categorical_accuracy: 0.8571\n",
            "Epoch 75/100\n",
            "\u001b[1m90/90\u001b[0m \u001b[32m━━━━━━━━━━━━━━━━━━━━\u001b[0m\u001b[37m\u001b[0m \u001b[1m0s\u001b[0m 5ms/step - loss: 0.1927 - sparse_categorical_accuracy: 0.9257 - val_loss: 0.3310 - val_sparse_categorical_accuracy: 0.8544\n",
            "Epoch 76/100\n",
            "\u001b[1m90/90\u001b[0m \u001b[32m━━━━━━━━━━━━━━━━━━━━\u001b[0m\u001b[37m\u001b[0m \u001b[1m1s\u001b[0m 5ms/step - loss: 0.2105 - sparse_categorical_accuracy: 0.9128 - val_loss: 0.3325 - val_sparse_categorical_accuracy: 0.8641\n",
            "Epoch 77/100\n",
            "\u001b[1m90/90\u001b[0m \u001b[32m━━━━━━━━━━━━━━━━━━━━\u001b[0m\u001b[37m\u001b[0m \u001b[1m0s\u001b[0m 3ms/step - loss: 0.2088 - sparse_categorical_accuracy: 0.9245 - val_loss: 0.3332 - val_sparse_categorical_accuracy: 0.8599\n",
            "Epoch 78/100\n",
            "\u001b[1m90/90\u001b[0m \u001b[32m━━━━━━━━━━━━━━━━━━━━\u001b[0m\u001b[37m\u001b[0m \u001b[1m1s\u001b[0m 3ms/step - loss: 0.1916 - sparse_categorical_accuracy: 0.9300 - val_loss: 0.3365 - val_sparse_categorical_accuracy: 0.8599\n",
            "Epoch 79/100\n",
            "\u001b[1m90/90\u001b[0m \u001b[32m━━━━━━━━━━━━━━━━━━━━\u001b[0m\u001b[37m\u001b[0m \u001b[1m0s\u001b[0m 3ms/step - loss: 0.1959 - sparse_categorical_accuracy: 0.9314 - val_loss: 0.3341 - val_sparse_categorical_accuracy: 0.8613\n",
            "Epoch 80/100\n",
            "\u001b[1m90/90\u001b[0m \u001b[32m━━━━━━━━━━━━━━━━━━━━\u001b[0m\u001b[37m\u001b[0m \u001b[1m1s\u001b[0m 3ms/step - loss: 0.2162 - sparse_categorical_accuracy: 0.9185 - val_loss: 0.3378 - val_sparse_categorical_accuracy: 0.8571\n",
            "Epoch 81/100\n",
            "\u001b[1m90/90\u001b[0m \u001b[32m━━━━━━━━━━━━━━━━━━━━\u001b[0m\u001b[37m\u001b[0m \u001b[1m0s\u001b[0m 4ms/step - loss: 0.1828 - sparse_categorical_accuracy: 0.9364 - val_loss: 0.3304 - val_sparse_categorical_accuracy: 0.8655\n",
            "Epoch 82/100\n",
            "\u001b[1m90/90\u001b[0m \u001b[32m━━━━━━━━━━━━━━━━━━━━\u001b[0m\u001b[37m\u001b[0m \u001b[1m0s\u001b[0m 3ms/step - loss: 0.2128 - sparse_categorical_accuracy: 0.9276 - val_loss: 0.3232 - val_sparse_categorical_accuracy: 0.8669\n",
            "Epoch 83/100\n",
            "\u001b[1m90/90\u001b[0m \u001b[32m━━━━━━━━━━━━━━━━━━━━\u001b[0m\u001b[37m\u001b[0m \u001b[1m0s\u001b[0m 3ms/step - loss: 0.1901 - sparse_categorical_accuracy: 0.9246 - val_loss: 0.3188 - val_sparse_categorical_accuracy: 0.8682\n",
            "Epoch 84/100\n",
            "\u001b[1m90/90\u001b[0m \u001b[32m━━━━━━━━━━━━━━━━━━━━\u001b[0m\u001b[37m\u001b[0m \u001b[1m0s\u001b[0m 3ms/step - loss: 0.2093 - sparse_categorical_accuracy: 0.9165 - val_loss: 0.3276 - val_sparse_categorical_accuracy: 0.8669\n",
            "Epoch 85/100\n",
            "\u001b[1m90/90\u001b[0m \u001b[32m━━━━━━━━━━━━━━━━━━━━\u001b[0m\u001b[37m\u001b[0m \u001b[1m0s\u001b[0m 3ms/step - loss: 0.1797 - sparse_categorical_accuracy: 0.9353 - val_loss: 0.3253 - val_sparse_categorical_accuracy: 0.8682\n",
            "Epoch 86/100\n",
            "\u001b[1m90/90\u001b[0m \u001b[32m━━━━━━━━━━━━━━━━━━━━\u001b[0m\u001b[37m\u001b[0m \u001b[1m0s\u001b[0m 3ms/step - loss: 0.1810 - sparse_categorical_accuracy: 0.9323 - val_loss: 0.3267 - val_sparse_categorical_accuracy: 0.8710\n",
            "Epoch 87/100\n",
            "\u001b[1m90/90\u001b[0m \u001b[32m━━━━━━━━━━━━━━━━━━━━\u001b[0m\u001b[37m\u001b[0m \u001b[1m1s\u001b[0m 3ms/step - loss: 0.1775 - sparse_categorical_accuracy: 0.9347 - val_loss: 0.3248 - val_sparse_categorical_accuracy: 0.8669\n",
            "Epoch 88/100\n",
            "\u001b[1m90/90\u001b[0m \u001b[32m━━━━━━━━━━━━━━━━━━━━\u001b[0m\u001b[37m\u001b[0m \u001b[1m0s\u001b[0m 3ms/step - loss: 0.1863 - sparse_categorical_accuracy: 0.9329 - val_loss: 0.3213 - val_sparse_categorical_accuracy: 0.8696\n",
            "Epoch 89/100\n",
            "\u001b[1m90/90\u001b[0m \u001b[32m━━━━━━━━━━━━━━━━━━━━\u001b[0m\u001b[37m\u001b[0m \u001b[1m1s\u001b[0m 3ms/step - loss: 0.1945 - sparse_categorical_accuracy: 0.9217 - val_loss: 0.3177 - val_sparse_categorical_accuracy: 0.8779\n",
            "Epoch 90/100\n",
            "\u001b[1m90/90\u001b[0m \u001b[32m━━━━━━━━━━━━━━━━━━━━\u001b[0m\u001b[37m\u001b[0m \u001b[1m0s\u001b[0m 3ms/step - loss: 0.1947 - sparse_categorical_accuracy: 0.9234 - val_loss: 0.3208 - val_sparse_categorical_accuracy: 0.8724\n",
            "Epoch 91/100\n",
            "\u001b[1m90/90\u001b[0m \u001b[32m━━━━━━━━━━━━━━━━━━━━\u001b[0m\u001b[37m\u001b[0m \u001b[1m0s\u001b[0m 3ms/step - loss: 0.1807 - sparse_categorical_accuracy: 0.9372 - val_loss: 0.3212 - val_sparse_categorical_accuracy: 0.8710\n",
            "Epoch 92/100\n",
            "\u001b[1m90/90\u001b[0m \u001b[32m━━━━━━━━━━━━━━━━━━━━\u001b[0m\u001b[37m\u001b[0m \u001b[1m0s\u001b[0m 3ms/step - loss: 0.1857 - sparse_categorical_accuracy: 0.9250 - val_loss: 0.3200 - val_sparse_categorical_accuracy: 0.8724\n",
            "Epoch 93/100\n",
            "\u001b[1m90/90\u001b[0m \u001b[32m━━━━━━━━━━━━━━━━━━━━\u001b[0m\u001b[37m\u001b[0m \u001b[1m0s\u001b[0m 3ms/step - loss: 0.1805 - sparse_categorical_accuracy: 0.9321 - val_loss: 0.3166 - val_sparse_categorical_accuracy: 0.8710\n",
            "Epoch 94/100\n",
            "\u001b[1m90/90\u001b[0m \u001b[32m━━━━━━━━━━━━━━━━━━━━\u001b[0m\u001b[37m\u001b[0m \u001b[1m0s\u001b[0m 3ms/step - loss: 0.1770 - sparse_categorical_accuracy: 0.9314 - val_loss: 0.3149 - val_sparse_categorical_accuracy: 0.8738\n",
            "Epoch 95/100\n",
            "\u001b[1m90/90\u001b[0m \u001b[32m━━━━━━━━━━━━━━━━━━━━\u001b[0m\u001b[37m\u001b[0m \u001b[1m1s\u001b[0m 3ms/step - loss: 0.1864 - sparse_categorical_accuracy: 0.9234 - val_loss: 0.3160 - val_sparse_categorical_accuracy: 0.8738\n",
            "Epoch 96/100\n",
            "\u001b[1m90/90\u001b[0m \u001b[32m━━━━━━━━━━━━━━━━━━━━\u001b[0m\u001b[37m\u001b[0m \u001b[1m0s\u001b[0m 4ms/step - loss: 0.1700 - sparse_categorical_accuracy: 0.9301 - val_loss: 0.3165 - val_sparse_categorical_accuracy: 0.8696\n",
            "Epoch 97/100\n",
            "\u001b[1m90/90\u001b[0m \u001b[32m━━━━━━━━━━━━━━━━━━━━\u001b[0m\u001b[37m\u001b[0m \u001b[1m1s\u001b[0m 3ms/step - loss: 0.1729 - sparse_categorical_accuracy: 0.9336 - val_loss: 0.3224 - val_sparse_categorical_accuracy: 0.8779\n",
            "Epoch 98/100\n",
            "\u001b[1m90/90\u001b[0m \u001b[32m━━━━━━━━━━━━━━━━━━━━\u001b[0m\u001b[37m\u001b[0m \u001b[1m0s\u001b[0m 3ms/step - loss: 0.1919 - sparse_categorical_accuracy: 0.9242 - val_loss: 0.3177 - val_sparse_categorical_accuracy: 0.8752\n",
            "Epoch 99/100\n",
            "\u001b[1m90/90\u001b[0m \u001b[32m━━━━━━━━━━━━━━━━━━━━\u001b[0m\u001b[37m\u001b[0m \u001b[1m0s\u001b[0m 3ms/step - loss: 0.1843 - sparse_categorical_accuracy: 0.9297 - val_loss: 0.3180 - val_sparse_categorical_accuracy: 0.8793\n",
            "Epoch 100/100\n",
            "\u001b[1m90/90\u001b[0m \u001b[32m━━━━━━━━━━━━━━━━━━━━\u001b[0m\u001b[37m\u001b[0m \u001b[1m0s\u001b[0m 3ms/step - loss: 0.1625 - sparse_categorical_accuracy: 0.9353 - val_loss: 0.3165 - val_sparse_categorical_accuracy: 0.8752\n",
            "\u001b[1m42/42\u001b[0m \u001b[32m━━━━━━━━━━━━━━━━━━━━\u001b[0m\u001b[37m\u001b[0m \u001b[1m0s\u001b[0m 6ms/step - loss: 0.3009 - sparse_categorical_accuracy: 0.8707\n",
            "Loss calculated on the testing set: 0.3220\n",
            "Accuracy calculated on the testing set: 0.8591\n"
          ]
        }
      ]
    },
    {
      "cell_type": "code",
      "source": [
        "def build_ff_model(\n",
        "    input_shape,\n",
        "    feed_forward_units=[128]\n",
        "):\n",
        "    inputs = ...\n",
        "    x = inputs\n",
        "\n",
        "    x = ...\n",
        "    for ... in ...:\n",
        "        x = ...\n",
        "        x = ...\n",
        "\n",
        "    outputs = ...\n",
        "    model = keras.Model(..., ...)\n",
        "\n",
        "    return model\n",
        "\n",
        "\n",
        "input_shape = x_train.shape[1:]\n",
        "ff_model = build_ff_model(input_shape)\n",
        "ff_model.compile(\n",
        "    loss=\"sparse_categorical_crossentropy\",\n",
        "    optimizer=keras.optimizers.Adam(learning_rate=...),\n",
        "    metrics=[\"sparse_categorical_accuracy\"],\n",
        ")\n",
        "ff_model.summary()\n",
        "\n",
        "train_and_evaluate(ff_model, x_train, x_test, y_train, y_test)"
      ],
      "metadata": {
        "id": "YlNQTImP67IT"
      },
      "execution_count": null,
      "outputs": []
    },
    {
      "cell_type": "code",
      "source": [],
      "metadata": {
        "id": "vv6h28dL7yYn"
      },
      "execution_count": null,
      "outputs": []
    }
  ]
}